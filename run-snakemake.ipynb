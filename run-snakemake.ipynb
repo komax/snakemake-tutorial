{
 "cells": [
  {
   "cell_type": "markdown",
   "metadata": {},
   "source": [
    "# Snakemake tutorial\n",
    "\n",
    "In this tutorial, we will learn how to operate snakemake to create workflows. \n",
    "\n",
    "## Objectives\n",
    "1. Basic understanding how dependencies between files is used in snakemake\n",
    "2. Execute snakemake on the commandline\n",
    "3. Being able to understand why and how map-reduce parallelism is pertinent"
   ]
  },
  {
   "cell_type": "markdown",
   "metadata": {},
   "source": [
    "## 1. Hello, snakemake!\n",
    "Snakemake executes workflows which consists of multiple rules. Each rule is a unit/step in the data analysis. You can think of a typical data analysis workflow:\n",
    "1. Preprocessing of the dataset\n",
    "2. Data cleansing and transforms\n",
    "3. Analyze the data (compute metrics, training models)\n",
    "4. Evaluate the results (calculate statistics, cross-validation)\n",
    "5. Plot the results\n",
    "\n",
    "We will more or less adhere to this data analysis pipeline. Let's execute our very first rule:"
   ]
  },
  {
   "cell_type": "code",
   "execution_count": 2,
   "metadata": {},
   "outputs": [
    {
     "name": "stdout",
     "output_type": "stream",
     "text": [
      "\u001b[33mBuilding DAG of jobs...\u001b[0m\n",
      "\u001b[33mUsing shell: /usr/local/bin/bash\u001b[0m\n",
      "\u001b[33mProvided cores: 4\u001b[0m\n",
      "\u001b[33mRules claiming more threads will be scaled down.\u001b[0m\n",
      "\u001b[33mJob counts:\n",
      "\tcount\tjobs\n",
      "\t1\thello\n",
      "\t1\u001b[0m\n",
      "\u001b[32m\u001b[0m\n",
      "\u001b[32m[Fri Feb 14 16:35:58 2020]\u001b[0m\n",
      "\u001b[32mrule hello:\n",
      "    jobid: 0\u001b[0m\n",
      "\u001b[32m\u001b[0m\n",
      "\u001b[33mJob counts:\n",
      "\tcount\tjobs\n",
      "\t1\thello\n",
      "\t1\u001b[0m\n",
      "hello world\n",
      "\u001b[32m[Fri Feb 14 16:35:58 2020]\u001b[0m\n",
      "\u001b[32mFinished job 0.\u001b[0m\n",
      "\u001b[32m1 of 1 steps (100%) done\u001b[0m\n",
      "\u001b[33mComplete log: /Users/mk21womu/code/snakemake-tutorial/.snakemake/log/2020-02-14T163558.090656.snakemake.log\u001b[0m\n"
     ]
    }
   ],
   "source": [
    "! snakemake hello"
   ]
  },
  {
   "cell_type": "markdown",
   "metadata": {},
   "source": [
    "Great! This worked well! The rule outputted ```hello world```, such a classic thing to do.\n",
    "\n",
    "Next, let's look up which rules which rules exist in this tutorial:"
   ]
  },
  {
   "cell_type": "code",
   "execution_count": 4,
   "metadata": {},
   "outputs": [
    {
     "name": "stdout",
     "output_type": "stream",
     "text": [
      "\u001b[32mall\u001b[0m\r\n",
      "\u001b[32mgenerate_data\u001b[0m\r\n",
      "\u001b[32mchunk_dataset\u001b[0m\r\n",
      "\u001b[32madd_country\u001b[0m\r\n",
      "\u001b[32mmerge_results\u001b[0m\r\n",
      "\u001b[32mplot_results\u001b[0m\r\n",
      "\u001b[32mhello\u001b[0m\r\n",
      "\u001b[32mclean\u001b[0m\r\n"
     ]
    }
   ],
   "source": [
    "! snakemake --list"
   ]
  },
  {
   "cell_type": "markdown",
   "metadata": {},
   "source": [
    "Intriguing, the order of the rules indicate that\n",
    "1. we first generate data, \n",
    "2. chunk the data in multiple pieces, \n",
    "3. apply a transform by add a country for each observation, \n",
    "4. merge the results\n",
    "5. and finally plot the results."
   ]
  },
  {
   "cell_type": "markdown",
   "metadata": {},
   "source": [
    "Firstly, let's wipe the data and results from previous snakemake runs."
   ]
  },
  {
   "cell_type": "code",
   "execution_count": 3,
   "metadata": {},
   "outputs": [
    {
     "name": "stdout",
     "output_type": "stream",
     "text": [
      "\u001b[33mBuilding DAG of jobs...\u001b[0m\n",
      "\u001b[33mUsing shell: /usr/local/bin/bash\u001b[0m\n",
      "\u001b[33mProvided cores: 4\u001b[0m\n",
      "\u001b[33mRules claiming more threads will be scaled down.\u001b[0m\n",
      "\u001b[33mJob counts:\n",
      "\tcount\tjobs\n",
      "\t1\tclean\n",
      "\t1\u001b[0m\n",
      "\u001b[32m\u001b[0m\n",
      "\u001b[32m[Fri Feb 14 16:36:10 2020]\u001b[0m\n",
      "\u001b[32mrule clean:\n",
      "    jobid: 0\u001b[0m\n",
      "\u001b[32m\u001b[0m\n",
      "\u001b[33mJob counts:\n",
      "\tcount\tjobs\n",
      "\t1\tclean\n",
      "\t1\u001b[0m\n",
      "\u001b[32m[Fri Feb 14 16:36:10 2020]\u001b[0m\n",
      "\u001b[32mFinished job 0.\u001b[0m\n",
      "\u001b[32m1 of 1 steps (100%) done\u001b[0m\n",
      "\u001b[33mComplete log: /Users/mk21womu/code/snakemake-tutorial/.snakemake/log/2020-02-14T163610.434969.snakemake.log\u001b[0m\n"
     ]
    }
   ],
   "source": [
    "! snakemake clean"
   ]
  },
  {
   "cell_type": "code",
   "execution_count": null,
   "metadata": {},
   "outputs": [],
   "source": []
  }
 ],
 "metadata": {
  "kernelspec": {
   "display_name": "Python 3",
   "language": "python",
   "name": "python3"
  },
  "language_info": {
   "codemirror_mode": {
    "name": "ipython",
    "version": 3
   },
   "file_extension": ".py",
   "mimetype": "text/x-python",
   "name": "python",
   "nbconvert_exporter": "python",
   "pygments_lexer": "ipython3",
   "version": "3.7.6"
  }
 },
 "nbformat": 4,
 "nbformat_minor": 4
}
